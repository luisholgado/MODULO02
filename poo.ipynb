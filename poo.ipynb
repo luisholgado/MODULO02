{
 "cells": [
  {
   "attachments": {},
   "cell_type": "markdown",
   "metadata": {},
   "source": [
    "# Programación Orientada a Objetos\n",
    "- POO es un paradigma de la programación, osea es un modelo basico de diseño y desarrollo de programas (Interpretación y modelado de la realidad).\n",
    "## Programa en POO:\n",
    "- Objetos que colaboran entre si enviandose mensajes\n",
    "- Entonces en la POO todo es un objeto.\n",
    "### Objeto:\n",
    "- Es la representación de un ente del dominio del problema\n",
    "### Ente:\n",
    "- Es cualquier cosa que podamos observar, hablar sobre el, etc. \n",
    "- La esencia del ente es modelado por los mensajes que el objeto sabe responder.\n",
    "### Mensaje:\n",
    "- Es la especificación sobre que puede hacer un objeto\n",
    "- Representa un ente de la realidad dentro del dominio de la comunicación\n",
    "- Representa un objeto a partir de los mensajes que sabe responder\n",
    "### Colaboración:\n",
    "- Es el hecho por el cual dos objetos se comunican por medio de un mensaje\n",
    "- Dentro de colaboración existen:\n",
    ">- Un emisor de mensaje\n",
    ">- Un receptor del mensaje\n",
    ">- Un conjunto de objetos que forman parte del mensaje\n",
    ">- Una respuesta\n",
    ">- Caracteristicas:\n",
    ">>- Son dirigidas (No es un broadcast(Difución masiva))\n",
    ">>- Son sincrónicas (La emisión continua hasta que se obtiene una respuesta)\n",
    ">>- El receptor desconoce al emisor\n",
    ">>- Siempre hay una respuesta\n",
    "- \tEn POO vamos a extraer todas las cosas que nos rodean, las cuales se llevan al programa mediante clases y objetos.\n",
    "\n",
    "> Objeto:\n",
    ">> Ejem:\n",
    ">>>- Una persona\n",
    ">>>- Un auto\n",
    ">>>- Un lápiz\n",
    "\n",
    "- Cada uno de esos objetos tienen caracteristicas que los diferencian uno de los otros y cada uno tiene diferentes funciones.\n",
    "> Ejem:\n",
    ">> Una computadora:\n",
    ">>>- tamaño: 50 cm\n",
    ">>>- color: negro\n",
    "\n",
    ">> Un auto:\n",
    ">>>- tamaño: 1.50 cm\n",
    ">>>- color: azul\n",
    ">>>- marca: Toyota\n",
    "\n",
    ">> Un lápiz:\n",
    ">>>- tamaño: 25 cm\n",
    ">>>- color: negro\n",
    "\n",
    "## Clase:\n",
    "- Es una entidad que define una serie de elementos que determinan un estado (datos) y un comportamiento (operaciones sobre los datos que modifican su estado).\n",
    "\n",
    "> Ejem:\n",
    ">> Medios de transporte:\n",
    "\n",
    ">>> Auto:\n",
    ">>>>- marca: Toyota\n",
    ">>>>- modelo: 2020\n",
    ">>>>- color: Gris\n",
    "\n",
    ">>> Moto:\n",
    ">>>>- marca: Kawasaki\n",
    ">>>>- modelo: 2019\n",
    ">>>>- color: Verde\n",
    "\n",
    "- A partir de un modelo puedo crear más objetos con diferentes caracteristicas.\n",
    "\n",
    "## ¿Por qué usar POO?\n",
    "- Permite reutilizar código\n",
    "- Sistemas más complejos\n",
    "- Facilita el mantenimiento"
   ]
  },
  {
   "cell_type": "code",
   "execution_count": null,
   "metadata": {},
   "outputs": [],
   "source": [
    "# Ejemplo:"
   ]
  },
  {
   "attachments": {},
   "cell_type": "markdown",
   "metadata": {},
   "source": [
    "## Metodos:\n",
    "- Es una función que se origina dentro de una clase, pueden ser referenciadas por los objetos de dicha clase. Generalmente implican una acción o un comportamiento.\n",
    "\t\n",
    "> (self):\n",
    ">>- Palabra reservada que hace referencia a los objetos\n",
    ">>- También nos permite asignar un valor en específico\n",
    "\n",
    "> __init()__:\n",
    ">>- Es un metodo que cumple la función de constructor.\n",
    ">>- La tarea de los constructores es inicializar(asignar valores) a los atributos de la clase cuando se crea un objeto de la clase.\n"
   ]
  },
  {
   "cell_type": "code",
   "execution_count": 3,
   "metadata": {},
   "outputs": [
    {
     "name": "stdout",
     "output_type": "stream",
     "text": [
      "Nombre: Manzana(Chilena)\n"
     ]
    }
   ],
   "source": [
    "#Ejemplo\n",
    "class Fruto:\n",
    "    def __init__(self):\n",
    "        self.nombre='Manzana'\n",
    "        self.marca='Chilena'\n",
    "    def mostrar_fruto(self):\n",
    "        print(f\"Nombre: {self.nombre}({self.marca})\")\n",
    "obj=Fruto()\n",
    "obj.mostrar_fruto()"
   ]
  },
  {
   "cell_type": "code",
   "execution_count": 6,
   "metadata": {},
   "outputs": [
    {
     "name": "stdout",
     "output_type": "stream",
     "text": [
      "Tipo: Tipo doméstico\n",
      "Nombre:Drako\n"
     ]
    }
   ],
   "source": [
    "class Mascota:\n",
    "    def __init__(self):\n",
    "        self.tipo='Tipo doméstico'\n",
    "        self.nombre='Drako'\n",
    "        self.edad=3\n",
    "        self.color=\"Gris\"\n",
    "        self.raza='Siveriano'\n",
    "    def mostrar_mascota(self):\n",
    "        return f\"Tipo: {self.tipo}\\nNombre:{self.nombre}\"\n",
    "perro=Mascota()\n",
    "print(perro.mostrar_mascota())"
   ]
  },
  {
   "cell_type": "code",
   "execution_count": null,
   "metadata": {},
   "outputs": [],
   "source": []
  },
  {
   "attachments": {},
   "cell_type": "markdown",
   "metadata": {},
   "source": [
    "### Tipos de constructores:"
   ]
  },
  {
   "attachments": {},
   "cell_type": "markdown",
   "metadata": {},
   "source": [
    "#### Constructor predeterminado:\n",
    "- Es un constructor simple que no acepta ningún argumento.\n",
    "- Su definición tiene solo un argumento que es una referencia a la instancia que se está construyendo."
   ]
  },
  {
   "cell_type": "code",
   "execution_count": null,
   "metadata": {},
   "outputs": [],
   "source": [
    "#Ejemplo\n",
    "class Calculadora:\n",
    "    def __init__(self):\n",
    "        self.num01=10\n",
    "        self.num02=15\n",
    "    def suma(self):\n",
    "        return f\"El resultado de la suma es: {self.num01+self.num02}\"\n",
    "    def resta(self):\n",
    "        return f\"El resultado de la resta es: {self.num01-self.num02}\"\n",
    "calc=Calculadora()\n",
    "calc.suma()"
   ]
  },
  {
   "cell_type": "markdown",
   "metadata": {},
   "source": []
  },
  {
   "attachments": {},
   "cell_type": "markdown",
   "metadata": {},
   "source": [
    "#### Constructor parametrizado:\n",
    "- Toma su primer argumento como una referencia a la instancia que se está construyendo conocida como self y el resto de los argumentos son proporcionado. por el programador."
   ]
  },
  {
   "cell_type": "code",
   "execution_count": 11,
   "metadata": {},
   "outputs": [
    {
     "name": "stdout",
     "output_type": "stream",
     "text": [
      "EL resultado de la suma es: 18\n"
     ]
    }
   ],
   "source": [
    "#Ejemplo\n",
    "class Operacion:\n",
    "    def __init__(self,numero01,numero02):\n",
    "        self.num01=numero01\n",
    "        self.num02=numero02\n",
    "    def suma(self):\n",
    "        return f\"EL resultado de la suma es: {self.num01+self.num02}\"\n",
    "    def resta(self):\n",
    "        return f\"EL resultado de la resta es: {self.num01-self.num02}\"\n",
    "sbj=Operacion(15,3)\n",
    "print(sbj.suma())"
   ]
  },
  {
   "attachments": {},
   "cell_type": "markdown",
   "metadata": {},
   "source": [
    "## Herencia:\n",
    "- Es una de las caracteristicas más importantes de POO.\n",
    "- Permite crear una nueva clase a partir de una o más clases existentes.\n",
    "- Es la capacidad de reutilizar una clase extendiendo su funcionalidad. \n",
    "- Una clase que hereda de otra puede añadir nuevos atributos, ocultarlos, añadir nuevos métodos o redefinirlos.\n",
    "\n",
    "> Clase padre -> Superclase\n",
    ">>- Clase hijo01 -> Subclase\n",
    ">>- Clase hijo02 -> Subclase\n",
    ">>- Clase hijo03 -> Subclase"
   ]
  },
  {
   "cell_type": "code",
   "execution_count": 15,
   "metadata": {},
   "outputs": [
    {
     "name": "stdout",
     "output_type": "stream",
     "text": [
      "\n",
      "Nombre:Luis \n",
      "Apellidos:Holgadi \n",
      "Telfono : 65988\n",
      "Direccion : Los alamos\n",
      "Genero : M\n"
     ]
    }
   ],
   "source": [
    "#Ejemplo\n",
    "class Usuario:\n",
    "    def __init__(self,nombre, apellidos, telefono):\n",
    "        self.nombre=nombre\n",
    "        self.apellidos=apellidos\n",
    "        self.telefono=telefono\n",
    "    def __str__(self):\n",
    "        return f\"Nombre:{self.nombre} \\nApellidos:{self.apellidos} \\nTelfono : {self.telefono}\"\n",
    "\n",
    "class Alumno(Usuario):\n",
    "    def __init__(self, nombre, apellidos, telefono,dni):\n",
    "        super().__init__(nombre, apellidos, telefono)\n",
    "        self.dni=dni\n",
    "    def mostrar_datos(self):\n",
    "        return f\"DNI:{self.dni}\\nNombre:{self.nombre} \\nApellidos:{self.apellidos} \\nTelfono : {self.telefono}\"\n",
    "\n",
    "\n",
    "class Padre(Usuario):\n",
    "    direccion=str\n",
    "    def __init__(self, nombre, apellidos, telefono,direccion,genero):\n",
    "        Usuario.__init__(self,nombre, apellidos, telefono)\n",
    "        self._direccion=direccion\n",
    "        self.__genero=genero\n",
    "    def mostrar_info(self):\n",
    "        print(f\"\\nNombre:{self.nombre} \\nApellidos:{self.apellidos} \\nTelfono : {self.telefono}\\nDireccion : {self._direccion}\\nGenero : {self.__genero}\")\n",
    "\n",
    "\n",
    "#obj=Usuario(\"Luis\",\"Holgadi\",'65988')\n",
    "#print(obj)\n",
    "\n",
    "#alumno=Alumno(\"Luis\",\"Holgado\",'65988','44076704')\n",
    "\n",
    "#print(alumno.mostrar_datos())\n",
    "padre=Padre(\"Luis\",\"Holgadi\",'65988','Los alamos',\"M\")\n",
    "padre.mostrar_info()\n"
   ]
  },
  {
   "cell_type": "code",
   "execution_count": 22,
   "metadata": {},
   "outputs": [
    {
     "name": "stdout",
     "output_type": "stream",
     "text": [
      "Nombre: MAria\n",
      "Apellido:Rios\n",
      "===========================\n",
      "Codigo:Est001\n",
      "Nombre: MAria1\n",
      "Apellido:Rios2\n",
      "===========================\n"
     ]
    }
   ],
   "source": [
    "# Polimorfismo\n",
    "class Persona:\n",
    "    def __init__(self,nombre,apellido):\n",
    "        self.nombre=nombre\n",
    "        self.apellido=apellido\n",
    "    def mostrar_data(self):\n",
    "        return f\"Nombre: {self.nombre}\\nApellido:{self.apellido}\"\n",
    "\n",
    "class Estudiante(Persona):\n",
    "    def __init__(self, nombre, apellido,cod_estudiante):\n",
    "        super().__init__(nombre, apellido)\n",
    "        self.cod_estudiante=cod_estudiante\n",
    "    def mostrar_data(self):\n",
    "        return f\"Codigo:{self.cod_estudiante}\\nNombre: {self.nombre}\\nApellido:{self.apellido}\"\n",
    "\n",
    "per=Persona(\"MAria\",\"Rios\")\n",
    "print(per.mostrar_data())\n",
    "print(\"===========================\")\n",
    "est=Estudiante(\"MAria1\",\"Rios2\",\"Est001\")\n",
    "print(est.mostrar_data())\n",
    "print(\"===========================\")"
   ]
  },
  {
   "cell_type": "code",
   "execution_count": 33,
   "metadata": {},
   "outputs": [
    {
     "name": "stdout",
     "output_type": "stream",
     "text": [
      "El tipo ingresado es: Perro\n",
      "El tipo ingresado es: Perro\n"
     ]
    }
   ],
   "source": [
    "class Animal():\n",
    "    tipo=str\n",
    "    def __init__(self):\n",
    "        pass\n",
    "    def __str__(self):\n",
    "        return f\"El tipo ingresado es: {self.tipo}\"\n",
    "    def mostrar_tipo(self):\n",
    "        return f\"El tipo ingresado es: {self.tipo}\"\n",
    "animal=Animal()\n",
    "animal.tipo=\"Perro\"\n",
    "print(animal)\n",
    "print(animal.mostrar_tipo())\n"
   ]
  }
 ],
 "metadata": {
  "kernelspec": {
   "display_name": "Python 3",
   "language": "python",
   "name": "python3"
  },
  "language_info": {
   "codemirror_mode": {
    "name": "ipython",
    "version": 3
   },
   "file_extension": ".py",
   "mimetype": "text/x-python",
   "name": "python",
   "nbconvert_exporter": "python",
   "pygments_lexer": "ipython3",
   "version": "3.11.1"
  },
  "orig_nbformat": 4,
  "vscode": {
   "interpreter": {
    "hash": "7034d8e9d3e51e337b9970f69d07f05ee44561bb7f5747a6d48f14d31d3f7d1c"
   }
  }
 },
 "nbformat": 4,
 "nbformat_minor": 2
}
