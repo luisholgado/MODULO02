{
 "cells": [
  {
   "attachments": {},
   "cell_type": "markdown",
   "metadata": {},
   "source": [
    "# Excepciones en Python\n",
    "- Es una forma de controlar el comportamiento de un programa cuando se produce un error."
   ]
  },
  {
   "cell_type": "code",
   "execution_count": 8,
   "metadata": {},
   "outputs": [
    {
     "ename": "TypeError",
     "evalue": "unsupported operand type(s) for +: 'int' and 'str'",
     "output_type": "error",
     "traceback": [
      "\u001b[1;31m---------------------------------------------------------------------------\u001b[0m",
      "\u001b[1;31mTypeError\u001b[0m                                 Traceback (most recent call last)",
      "Cell \u001b[1;32mIn[8], line 3\u001b[0m\n\u001b[0;32m      1\u001b[0m num01\u001b[39m=\u001b[39m\u001b[39m10\u001b[39m\n\u001b[0;32m      2\u001b[0m num02\u001b[39m=\u001b[39m\u001b[39m\"\u001b[39m\u001b[39m5\u001b[39m\u001b[39m\"\u001b[39m\n\u001b[1;32m----> 3\u001b[0m \u001b[39mprint\u001b[39m(num01\u001b[39m+\u001b[39;49mnum02)\n\u001b[0;32m      5\u001b[0m \u001b[39mprint\u001b[39m(\u001b[39m\"\u001b[39m\u001b[39mHola, esto se ejecuta despues de las opciones de try\u001b[39m\u001b[39m\"\u001b[39m)\n",
      "\u001b[1;31mTypeError\u001b[0m: unsupported operand type(s) for +: 'int' and 'str'"
     ]
    }
   ],
   "source": [
    "num01=10\n",
    "num02=\"5\"\n",
    "print(num01+num02)\n",
    "\n",
    "print(\"Hola, esto se ejecuta despues de las opciones de try\")"
   ]
  },
  {
   "attachments": {},
   "cell_type": "markdown",
   "metadata": {},
   "source": [
    "- *Bloque try*: Bloque que permite probar la busqueda de errores.\n",
    "- *Bloque except*: Bloque que permite manejar los errores.\n",
    "- *Bloque else*: Bloque que se ejecuta cuando no hay ningun error.\n",
    "- *Bloque finally*: Bloque que se ejecuta cuando finaliza la excepción."
   ]
  },
  {
   "cell_type": "code",
   "execution_count": 10,
   "metadata": {},
   "outputs": [
    {
     "name": "stdout",
     "output_type": "stream",
     "text": [
      "15\n",
      "Bloque se se ejecutac cuando no hay error\n",
      "Se ejecutó todas las excepsiones, revision finalizada\n",
      "Hola, esto se ejecuta despues de las opciones de try\n"
     ]
    }
   ],
   "source": [
    "num01=10\n",
    "num02=5\n",
    "try:\n",
    "    print(num01+num02)\n",
    "except:\n",
    "    print(\"La operacion no se puede ejecutar\")\n",
    "else:\n",
    "    print(\"Bloque se se ejecutac cuando no hay error\")\n",
    "finally:\n",
    "    print(\"Se ejecutó todas las excepsiones, revision finalizada\")\n",
    "print(\"Hola, esto se ejecuta despues de las opciones de try\")"
   ]
  },
  {
   "cell_type": "code",
   "execution_count": 15,
   "metadata": {},
   "outputs": [
    {
     "name": "stdout",
     "output_type": "stream",
     "text": [
      "No se puede dividir por cero\n"
     ]
    }
   ],
   "source": [
    "numero01=10\n",
    "numero02=0\n",
    "try:\n",
    "    print(numero01/numero02)\n",
    "except TypeError:\n",
    "    print(\"Este es un error por tipo de datos, ingrese nro entero\")\n",
    "except ZeroDivisionError:\n",
    "    print(\"No se puede dividir por cero\")"
   ]
  }
 ],
 "metadata": {
  "kernelspec": {
   "display_name": "Python 3",
   "language": "python",
   "name": "python3"
  },
  "language_info": {
   "codemirror_mode": {
    "name": "ipython",
    "version": 3
   },
   "file_extension": ".py",
   "mimetype": "text/x-python",
   "name": "python",
   "nbconvert_exporter": "python",
   "pygments_lexer": "ipython3",
   "version": "3.11.1"
  },
  "orig_nbformat": 4
 },
 "nbformat": 4,
 "nbformat_minor": 2
}
